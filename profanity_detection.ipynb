{
 "cells": [
  {
   "cell_type": "code",
   "execution_count": null,
   "source": [
    "def url_cleaning(url):\r\n",
    "    content2 = re.sub(';|,| |-|/|:|\\.',' ',data[0])\r\n",
    "\r\n",
    "    content2 = re.sub(r'https|com|net|co|us|fr|uk|id|care|http|www', ' ', content2)\r\n",
    "\r\n",
    "    content2 = re.sub(r' +', ' ', content2)\r\n",
    "\r\n",
    "    content2\r\n",
    "    pass"
   ],
   "outputs": [],
   "metadata": {}
  },
  {
   "cell_type": "code",
   "execution_count": null,
   "source": [
    "def text_cleaning(text):\r\n",
    "    pass"
   ],
   "outputs": [],
   "metadata": {}
  },
  {
   "cell_type": "code",
   "execution_count": null,
   "source": [
    "def forbidden_word_check(text):\r\n",
    "    pass"
   ],
   "outputs": [],
   "metadata": {}
  },
  {
   "cell_type": "code",
   "execution_count": null,
   "source": [
    "def profanity_check_lib(text):\r\n",
    "    pass"
   ],
   "outputs": [],
   "metadata": {}
  },
  {
   "cell_type": "code",
   "execution_count": null,
   "source": [
    "def profanity_score(text):\r\n",
    "    pass"
   ],
   "outputs": [],
   "metadata": {}
  }
 ],
 "metadata": {
  "orig_nbformat": 4,
  "language_info": {
   "name": "python"
  }
 },
 "nbformat": 4,
 "nbformat_minor": 2
}